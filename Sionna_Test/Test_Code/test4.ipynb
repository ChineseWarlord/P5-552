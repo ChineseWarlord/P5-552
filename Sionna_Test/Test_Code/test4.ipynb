{
 "cells": [
  {
   "cell_type": "code",
   "execution_count": 2,
   "metadata": {},
   "outputs": [
    {
     "name": "stdout",
     "output_type": "stream",
     "text": [
      "Done\n"
     ]
    }
   ],
   "source": [
    "# SuperFastPython.com\n",
    "# execute tasks in parallel in a for loop\n",
    "from time import sleep\n",
    "from random import random\n",
    "from multiprocessing import Process\n",
    " \n",
    "# execute a task\n",
    "def task(arg):\n",
    "    # generate a random value between 0 and 1\n",
    "    value = random()\n",
    "    # block for a fraction of a second\n",
    "    sleep(value)\n",
    "    # report a message\n",
    "    print(f'.done {arg}, generated {value}', flush=True)\n",
    " \n",
    "# protect the entry point\n",
    "if __name__ == '__main__':\n",
    "    # create all tasks\n",
    "    processes = [Process(target=task, args=(i,)) for i in range(20)]\n",
    "    # start all processes\n",
    "    for process in processes:\n",
    "        process.start()\n",
    "    # wait for all processes to complete\n",
    "    for process in processes:\n",
    "        process.join()\n",
    "    # report that all tasks are completed\n",
    "    print('Done', flush=True)"
   ]
  }
 ],
 "metadata": {
  "kernelspec": {
   "display_name": "tf2",
   "language": "python",
   "name": "python3"
  },
  "language_info": {
   "codemirror_mode": {
    "name": "ipython",
    "version": 3
   },
   "file_extension": ".py",
   "mimetype": "text/x-python",
   "name": "python",
   "nbconvert_exporter": "python",
   "pygments_lexer": "ipython3",
   "version": "3.10.0"
  },
  "orig_nbformat": 4,
  "vscode": {
   "interpreter": {
    "hash": "e63a3201faa886433f053ac850182e6ced7152f08f157297f57004497d3b522a"
   }
  }
 },
 "nbformat": 4,
 "nbformat_minor": 2
}
