{
 "cells": [
  {
   "cell_type": "code",
   "execution_count": 7,
   "metadata": {},
   "outputs": [],
   "source": [
    "%matplotlib inline\n",
    "import matplotlib.pyplot as plt\n",
    "import numpy as np\n",
    "import sys\n",
    "\n",
    "# Import Sionna\n",
    "try:\n",
    "    import sionna\n",
    "except ImportError as e:\n",
    "    # Install Sionna if package is not already installed\n",
    "    import os\n",
    "    os.system(\"pip install sionna\")\n",
    "    import sionna\n",
    "    \n",
    "from sionna.utils import BinarySource, QAMSource, ebnodb2no, compute_ser, compute_ber, PlotBER\n",
    "from sionna.channel import FlatFadingChannel, KroneckerModel\n",
    "from sionna.channel.utils import exp_corr_mat\n",
    "from sionna.mimo import lmmse_equalizer\n",
    "from sionna.mapping import SymbolDemapper, Mapper, Demapper\n",
    "from sionna.fec.ldpc.encoding import LDPC5GEncoder\n",
    "from sionna.fec.ldpc.decoding import LDPC5GDecoder"
   ]
  },
  {
   "cell_type": "code",
   "execution_count": 8,
   "metadata": {},
   "outputs": [
    {
     "name": "stdout",
     "output_type": "stream",
     "text": [
      "Number of GPUs available : 1\n",
      "Only GPU number 0 used.\n"
     ]
    }
   ],
   "source": [
    "# Configure the notebook to use only a single GPU and allocate only as much memory as needed\n",
    "# For more details, see https://www.tensorflow.org/guide/gpu\n",
    "import tensorflow as tf\n",
    "gpus = tf.config.list_physical_devices('GPU')\n",
    "print('Number of GPUs available :', len(gpus))\n",
    "if gpus:\n",
    "    gpu_num = 0 # Number of the GPU to be used\n",
    "    try:\n",
    "        tf.config.set_visible_devices(gpus[gpu_num], 'GPU')\n",
    "        print('Only GPU number', gpu_num, 'used.')\n",
    "        tf.config.experimental.set_memory_growth(gpus[gpu_num], True)\n",
    "    except RuntimeError as e:\n",
    "        print(e)"
   ]
  },
  {
   "cell_type": "code",
   "execution_count": 9,
   "metadata": {},
   "outputs": [
    {
     "name": "stdout",
     "output_type": "stream",
     "text": [
      "(1, 4, 1, 1824)\n",
      "(1, 4, 1, 1824)\n",
      "BER: 0.0 at Eb/No of 0 dB and 7296 simulated bits\n"
     ]
    },
    {
     "data": {
      "image/png": "[encoded data removed]",
      "text/plain": [
       "<Figure size 1000x400 with 2 Axes>"
      ]
     },
     "metadata": {},
     "output_type": "display_data"
    }
   ],
   "source": [
    "# Commented out IPython magic to ensure Python compatibility.\n",
    "from scipy import constants\n",
    "import tensorflow as tf\n",
    "import numpy as np\n",
    "\n",
    "try:\n",
    "    import sionna as sn\n",
    "except ImportError as e:\n",
    "    # Install Sionna if package is not already installed\n",
    "    import os\n",
    "    os.system(\"pip install sionna\")\n",
    "    import sionna as sn\n",
    "\n",
    "# For plotting\n",
    "# %matplotlib inline\n",
    "import matplotlib.pyplot as plt\n",
    "\n",
    "# For the implementation of the Keras models\n",
    "from tensorflow.keras import Model\n",
    "\n",
    "NUM_UT = 4\n",
    "NUM_BS = 1\n",
    "NUM_UT_ANT = 1\n",
    "NUM_BS_ANT = 64\n",
    "\n",
    "NUM_STREAMS_PER_TX = NUM_UT_ANT\n",
    "\n",
    "RX_TX_ASSOCIATION = np.array([[1, 1, 1, 1]])\n",
    "\n",
    "STREAM_MANAGEMENT = sn.mimo.StreamManagement(RX_TX_ASSOCIATION, NUM_STREAMS_PER_TX)\n",
    "\n",
    "RESOURCE_GRID = sn.ofdm.ResourceGrid(num_ofdm_symbols=14,\n",
    "                                      fft_size=76,\n",
    "                                      subcarrier_spacing=30e3,\n",
    "                                      num_tx=NUM_UT,\n",
    "                                      num_streams_per_tx=NUM_STREAMS_PER_TX,\n",
    "                                      cyclic_prefix_length=6,\n",
    "                                      pilot_pattern=\"kronecker\",\n",
    "                                      pilot_ofdm_symbol_indices=[2,11])\n",
    "RESOURCE_GRID.show();\n",
    "\n",
    "NUM_BITS_PER_SYMBOL = 2 # 4-QAM\n",
    "CODERATE = 0.5\n",
    "n = int(RESOURCE_GRID.num_data_symbols*NUM_BITS_PER_SYMBOL)\n",
    "k = int(n*CODERATE)\n",
    "\n",
    "binary_source = sn.utils.BinarySource()\n",
    "\n",
    "mapper = sn.mapping.Mapper(\"qam\", NUM_BITS_PER_SYMBOL)\n",
    "\n",
    "rg_mapper = sn.ofdm.ResourceGridMapper(RESOURCE_GRID)\n",
    "\n",
    "rayleigh = sn.channel.RayleighBlockFading(NUM_BS, NUM_BS_ANT, NUM_UT, NUM_UT_ANT)\n",
    "\n",
    "channel = sn.channel.OFDMChannel(rayleigh, RESOURCE_GRID, add_awgn=True, normalize_channel=True, return_channel=True)\n",
    "\n",
    "ls_est = sn.ofdm.LSChannelEstimator(RESOURCE_GRID, interpolation_type=\"nn\")\n",
    "\n",
    "lmmse_equ = sn.ofdm.LMMSEEqualizer(RESOURCE_GRID, STREAM_MANAGEMENT)\n",
    "\n",
    "demapper = sn.mapping.Demapper(\"app\", \"qam\", NUM_BITS_PER_SYMBOL, hard_out=\"True\")\n",
    "\n",
    "ebno_db = 0\n",
    "\n",
    "no = sn.utils.ebnodb2no(ebno_db=ebno_db,\n",
    "                        num_bits_per_symbol=NUM_BITS_PER_SYMBOL,\n",
    "                        coderate=CODERATE,\n",
    "                        resource_grid=RESOURCE_GRID)\n",
    "\n",
    "BATCH_SIZE = 1\n",
    "\n",
    "# Transmitter\n",
    "bits = binary_source([BATCH_SIZE, NUM_UT, RESOURCE_GRID.num_streams_per_tx, k*2])\n",
    "print(bits.shape)\n",
    "x = mapper(bits)\n",
    "x_rg = rg_mapper(x)\n",
    "\n",
    "# Channel\n",
    "y, h_freq = channel([x_rg, no])\n",
    "\n",
    "# Receiver\n",
    "h_hat, err_var = ls_est ([y, no])\n",
    "x_hat, no_eff = lmmse_equ([y, h_hat, err_var, no])\n",
    "llr = demapper([x_hat, no_eff])\n",
    "print(llr.shape)\n",
    "\n",
    "ber = sn.utils.metrics.compute_ber(bits, llr)\n",
    "nb_bits = np.size(bits.numpy())\n",
    "\n",
    "print(\"BER: {:.4} at Eb/No of {} dB and {} simulated bits\".format(ber.numpy(), ebno_db, nb_bits))"
   ]
  }
 ],
 "metadata": {
  "kernelspec": {
   "display_name": "Python 3.10.6 ('shit')",
   "language": "python",
   "name": "python3"
  },
  "language_info": {
   "codemirror_mode": {
    "name": "ipython",
    "version": 3
   },
   "file_extension": ".py",
   "mimetype": "text/x-python",
   "name": "python",
   "nbconvert_exporter": "python",
   "pygments_lexer": "ipython3",
   "version": "3.9.13"
  },
  "orig_nbformat": 4,
  "vscode": {
   "interpreter": {
    "hash": "e1a0b27cbb3bba5deb53c1d3a34260e6864ee22291e938b1fb5d585ff4c7e361"
   }
  }
 },
 "nbformat": 4,
 "nbformat_minor": 2
}
