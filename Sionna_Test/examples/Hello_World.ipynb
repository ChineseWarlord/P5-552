{
 "cells": [
  {
   "cell_type": "markdown",
   "id": "b01e3f8f",
   "metadata": {},
   "source": [
    "# “Hello, world!”"
   ]
  },
  {
   "cell_type": "markdown",
   "id": "f83f9e3c",
   "metadata": {},
   "source": [
    "Import Sionna:"
   ]
  },
  {
   "cell_type": "code",
   "execution_count": null,
   "id": "6e7121a9",
   "metadata": {},
   "outputs": [],
   "source": [
    "# Import Sionna\n",
    "try:\n",
    "    import sionna\n",
    "except ImportError as e:\n",
    "    # Install Sionna if package is not already installed\n",
    "    import os\n",
    "    os.system(\"pip install sionna\")\n",
    "    import sionna\n",
    "    \n",
    "# IPython \"magic function\" for inline plots\n",
    "%matplotlib inline\n",
    "import matplotlib.pyplot as plt"
   ]
  },
  {
   "cell_type": "markdown",
   "id": "f7c64ad8",
   "metadata": {},
   "source": [
    "Let us first create a [BinarySource](https://nvlabs.github.io/sionna/api/utils.html?highlight=binarysource#binarysource) to generate a random batch of bit vectors that we can map to constellation symbols:"
   ]
  },
  {
   "cell_type": "code",
   "execution_count": null,
   "id": "29709884",
   "metadata": {},
   "outputs": [],
   "source": [
    "batch_size = 1000 # Number of symbols we want to generate\n",
    "num_bits_per_symbol = 4 # 16-QAM has four bits per symbol\n",
    "binary_source = sionna.utils.BinarySource()\n",
    "b = binary_source([batch_size, num_bits_per_symbol])\n",
    "b"
   ]
  },
  {
   "cell_type": "markdown",
   "id": "3b2026eb",
   "metadata": {},
   "source": [
    "Next, let us create a [Constellation](https://nvlabs.github.io/sionna/api/mapping.html#sionna.mapping.Constellation) and visualize it:"
   ]
  },
  {
   "cell_type": "code",
   "execution_count": null,
   "id": "6aea6ae4",
   "metadata": {},
   "outputs": [],
   "source": [
    "constellation = sionna.mapping.Constellation(\"qam\", num_bits_per_symbol)\n",
    "constellation.show();"
   ]
  },
  {
   "cell_type": "markdown",
   "id": "d95dd632",
   "metadata": {},
   "source": [
    "We now need a [Mapper](https://nvlabs.github.io/sionna/api/mapping.html#mapper) that maps each row of b to the constellation symbols according to the bit labeling shown above."
   ]
  },
  {
   "cell_type": "code",
   "execution_count": null,
   "id": "e7d79b3f",
   "metadata": {},
   "outputs": [],
   "source": [
    "mapper = sionna.mapping.Mapper(constellation=constellation)\n",
    "x = mapper(b)\n",
    "x[:10]"
   ]
  },
  {
   "cell_type": "markdown",
   "id": "bb549a7f",
   "metadata": {},
   "source": [
    "Let us now make things a bit more interesting a send our symbols over and [AWGN channel](https://nvlabs.github.io/sionna/api/channel.html#sionna.channel.AWGN):"
   ]
  },
  {
   "cell_type": "code",
   "execution_count": null,
   "id": "5b74e2d5",
   "metadata": {},
   "outputs": [],
   "source": [
    "awgn = sionna.channel.AWGN()\n",
    "ebno_db = 15 # Desired Eb/No in dB\n",
    "no = sionna.utils.ebnodb2no(ebno_db, num_bits_per_symbol, coderate=1)\n",
    "y = awgn([x, no])\n",
    "\n",
    "# Visualize the received signal\n",
    "import matplotlib.pyplot as plt\n",
    "import numpy as np\n",
    "\n",
    "fig = plt.figure(figsize=(7,7))\n",
    "ax = fig.add_subplot(111)\n",
    "plt.scatter(np.real(y), np.imag(y));\n",
    "ax.set_aspect(\"equal\", adjustable=\"box\")\n",
    "plt.xlabel(\"Real Part\")\n",
    "plt.ylabel(\"Imaginary Part\")\n",
    "plt.grid(True, which=\"both\", axis=\"both\")\n",
    "plt.title(\"Received Symbols\");"
   ]
  }
 ],
 "metadata": {
  "kernelspec": {
   "display_name": "Python 3.9.12 ('base')",
   "language": "python",
   "name": "python3"
  },
  "language_info": {
   "codemirror_mode": {
    "name": "ipython",
    "version": 3
   },
   "file_extension": ".py",
   "mimetype": "text/x-python",
   "name": "python",
   "nbconvert_exporter": "python",
   "pygments_lexer": "ipython3",
   "version": "3.9.12"
  },
  "vscode": {
   "interpreter": {
    "hash": "0b7326cf90c354342a20a8bac38c5016d75bfd49fd5365489b40ef3c75153f6a"
   }
  },
  "widgets": {
   "application/vnd.jupyter.widget-state+json": {
    "state": {},
    "version_major": 2,
    "version_minor": 0
   }
  }
 },
 "nbformat": 4,
 "nbformat_minor": 5
}
